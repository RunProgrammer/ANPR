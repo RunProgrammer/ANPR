{
 "cells": [
  {
   "cell_type": "code",
   "execution_count": 30,
   "metadata": {},
   "outputs": [],
   "source": [
    "import pandas as pd\n",
    "import numpy as np\n",
    "import requests\n",
    "import urllib\n",
    "import json\n",
    "import matplotlib.pyplot as plt\n",
    "import cv2\n",
    "import glob,os,time\n",
    "from PIL import Image"
   ]
  },
  {
   "cell_type": "code",
   "execution_count": 31,
   "metadata": {},
   "outputs": [
    {
     "data": {
      "text/html": [
       "<div>\n",
       "<style scoped>\n",
       "    .dataframe tbody tr th:only-of-type {\n",
       "        vertical-align: middle;\n",
       "    }\n",
       "\n",
       "    .dataframe tbody tr th {\n",
       "        vertical-align: top;\n",
       "    }\n",
       "\n",
       "    .dataframe thead th {\n",
       "        text-align: right;\n",
       "    }\n",
       "</style>\n",
       "<table border=\"1\" class=\"dataframe\">\n",
       "  <thead>\n",
       "    <tr style=\"text-align: right;\">\n",
       "      <th></th>\n",
       "      <th>content</th>\n",
       "      <th>annotation</th>\n",
       "      <th>extras</th>\n",
       "    </tr>\n",
       "  </thead>\n",
       "  <tbody>\n",
       "    <tr>\n",
       "      <th>0</th>\n",
       "      <td>http://com.dataturks.a96-i23.open.s3.amazonaws...</td>\n",
       "      <td>[{'label': ['number_plate'], 'notes': '', 'poi...</td>\n",
       "      <td>NaN</td>\n",
       "    </tr>\n",
       "    <tr>\n",
       "      <th>1</th>\n",
       "      <td>http://com.dataturks.a96-i23.open.s3.amazonaws...</td>\n",
       "      <td>[{'label': ['number_plate'], 'notes': '', 'poi...</td>\n",
       "      <td>NaN</td>\n",
       "    </tr>\n",
       "    <tr>\n",
       "      <th>2</th>\n",
       "      <td>http://com.dataturks.a96-i23.open.s3.amazonaws...</td>\n",
       "      <td>[{'label': ['number_plate'], 'notes': '', 'poi...</td>\n",
       "      <td>NaN</td>\n",
       "    </tr>\n",
       "    <tr>\n",
       "      <th>3</th>\n",
       "      <td>http://com.dataturks.a96-i23.open.s3.amazonaws...</td>\n",
       "      <td>[{'label': ['number_plate'], 'notes': '', 'poi...</td>\n",
       "      <td>NaN</td>\n",
       "    </tr>\n",
       "    <tr>\n",
       "      <th>4</th>\n",
       "      <td>http://com.dataturks.a96-i23.open.s3.amazonaws...</td>\n",
       "      <td>[{'label': ['number_plate'], 'notes': '', 'poi...</td>\n",
       "      <td>NaN</td>\n",
       "    </tr>\n",
       "  </tbody>\n",
       "</table>\n",
       "</div>"
      ],
      "text/plain": [
       "                                             content  \\\n",
       "0  http://com.dataturks.a96-i23.open.s3.amazonaws...   \n",
       "1  http://com.dataturks.a96-i23.open.s3.amazonaws...   \n",
       "2  http://com.dataturks.a96-i23.open.s3.amazonaws...   \n",
       "3  http://com.dataturks.a96-i23.open.s3.amazonaws...   \n",
       "4  http://com.dataturks.a96-i23.open.s3.amazonaws...   \n",
       "\n",
       "                                          annotation  extras  \n",
       "0  [{'label': ['number_plate'], 'notes': '', 'poi...     NaN  \n",
       "1  [{'label': ['number_plate'], 'notes': '', 'poi...     NaN  \n",
       "2  [{'label': ['number_plate'], 'notes': '', 'poi...     NaN  \n",
       "3  [{'label': ['number_plate'], 'notes': '', 'poi...     NaN  \n",
       "4  [{'label': ['number_plate'], 'notes': '', 'poi...     NaN  "
      ]
     },
     "execution_count": 31,
     "metadata": {},
     "output_type": "execute_result"
    }
   ],
   "source": [
    "json_path = 'Indian_Number_plates.json'\n",
    "data = pd.read_json(json_path,lines=True)\n",
    "data.head()"
   ]
  },
  {
   "cell_type": "code",
   "execution_count": 33,
   "metadata": {},
   "outputs": [
    {
     "name": "stdout",
     "output_type": "stream",
     "text": [
      "[{'label': ['number_plate'], 'notes': '', 'points': [{'x': 0.722084367245657, 'y': 0.5879828326180251}, {'x': 0.8684863523573201, 'y': 0.688841201716738}], 'imageWidth': 806, 'imageHeight': 466}]\n",
      "237\n",
      "                                               content  \\\n",
      "0    http://com.dataturks.a96-i23.open.s3.amazonaws...   \n",
      "1    http://com.dataturks.a96-i23.open.s3.amazonaws...   \n",
      "2    http://com.dataturks.a96-i23.open.s3.amazonaws...   \n",
      "3    http://com.dataturks.a96-i23.open.s3.amazonaws...   \n",
      "4    http://com.dataturks.a96-i23.open.s3.amazonaws...   \n",
      "..                                                 ...   \n",
      "232  http://com.dataturks.a96-i23.open.s3.amazonaws...   \n",
      "233  http://com.dataturks.a96-i23.open.s3.amazonaws...   \n",
      "234  http://com.dataturks.a96-i23.open.s3.amazonaws...   \n",
      "235  http://com.dataturks.a96-i23.open.s3.amazonaws...   \n",
      "236  http://com.dataturks.a96-i23.open.s3.amazonaws...   \n",
      "\n",
      "                                            annotation  extras  \n",
      "0    [{'label': ['number_plate'], 'notes': '', 'poi...     NaN  \n",
      "1    [{'label': ['number_plate'], 'notes': '', 'poi...     NaN  \n",
      "2    [{'label': ['number_plate'], 'notes': '', 'poi...     NaN  \n",
      "3    [{'label': ['number_plate'], 'notes': '', 'poi...     NaN  \n",
      "4    [{'label': ['number_plate'], 'notes': '', 'poi...     NaN  \n",
      "..                                                 ...     ...  \n",
      "232  [{'label': ['number_plate'], 'notes': '', 'poi...     NaN  \n",
      "233  [{'label': ['number_plate'], 'notes': '', 'poi...     NaN  \n",
      "234  [{'label': ['number_plate'], 'notes': '', 'poi...     NaN  \n",
      "235  [{'label': ['number_plate'], 'notes': '', 'poi...     NaN  \n",
      "236  [{'label': ['number_plate'], 'notes': '', 'poi...     NaN  \n",
      "\n",
      "[237 rows x 3 columns]\n"
     ]
    }
   ],
   "source": [
    "print(data['annotation'][0])\n",
    "print(len(data))\n",
    "\n",
    "print(data)"
   ]
  },
  {
   "cell_type": "code",
   "execution_count": null,
   "metadata": {},
   "outputs": [],
   "source": [
    "dataset = {}\n",
    "vals = ['name','height','width','top_x','top_y','bottom_x','bottom_y']\n",
    "for i in vals:\n",
    "  dataset[i] = list()\n",
    "count = 0\n",
    "print(data)\n",
    "for idx,row in data.iterrows():\n",
    "  headers = headers = {'User-Agent': 'Mozilla/5.0 (Macintosh; Intel Mac OS X 10_11_5) AppleWebKit/537.36 (KHTML, like Gecko) Chrome/50.0.2661.102 Safari/537.36'}\n",
    "  #img = urllib.request.urlopen(row[\"content\"])\n",
    "  img = urllib.request.url\n",
    "  img = requests.get(row['content'],headers=headers)\n",
    "  print(img)\n",
    "  img = Image.open(img)\n",
    "  img = img.convert('RGB')\n",
    "  img.save(\"/content/License Plates/car_{}.jpeg\".format(count),'JPEG')\n",
    "  dataset['name'].append('car_{}'.format(count))\n",
    "  annotation = row['annotation']\n",
    "  dataset['height'].append(annotation[0]['imageHeight'])\n",
    "  dataset['width'].append(annotation[0]['imageWidth'])\n",
    "  dataset['top_x'].append(annotation[0]['points'][0]['x'])\n",
    "  dataset['top_y'].append(annotation[0]['points'][0]['y'])\n",
    "  dataset['bottom_x'].append(annotation[0]['points'][1]['x'])\n",
    "  dataset['bottom_y'].append(annotation[0]['points'][1]['y']) \n",
    "  count =count+1\n",
    "  if count%10==0:\n",
    "    print('Downloaded.. {}/{}'.format(count,len(data)))  \n",
    "  if count%len(data)==0:\n",
    "    print('Loading last image.. {}/{}'.format(count,len(data)))  \n",
    "print('{} images downloaded'.format(count))"
   ]
  }
 ],
 "metadata": {
  "kernelspec": {
   "display_name": "Python 3",
   "language": "python",
   "name": "python3"
  },
  "language_info": {
   "codemirror_mode": {
    "name": "ipython",
    "version": 3
   },
   "file_extension": ".py",
   "mimetype": "text/x-python",
   "name": "python",
   "nbconvert_exporter": "python",
   "pygments_lexer": "ipython3",
   "version": "3.10.0"
  },
  "orig_nbformat": 4
 },
 "nbformat": 4,
 "nbformat_minor": 2
}
